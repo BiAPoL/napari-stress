{
 "cells": [
  {
   "cell_type": "markdown",
   "id": "25a3519e-b8e1-4509-b236-e23e89e4d8d4",
   "metadata": {},
   "source": [
    "# Evaluate surface tracing\n",
    "\n",
    "This notebook compares the results of two different approaches to surface tracing:\n",
    "\n",
    "- Approach 1: Matlab code published [here](https://github.com/campaslab/STRESS)\n",
    "- Approach2: Napari surface tracing demonstrated in [this notebook ](./Process_confocal.ipynb)"
   ]
  },
  {
   "cell_type": "code",
   "execution_count": 27,
   "id": "819f8b22-fd62-44a7-af33-6b00cb2896ad",
   "metadata": {},
   "outputs": [],
   "source": [
    "import numpy as np\n",
    "from scipy import io\n",
    "import os\n",
    "\n",
    "import napari_stress\n",
    "from napari_stress._utils import time_slicer\n",
    "\n",
    "import napari\n",
    "import matplotlib.pyplot as plt"
   ]
  },
  {
   "cell_type": "code",
   "execution_count": 19,
   "id": "85eb2ab8-5e1d-4829-897f-eccae3f52351",
   "metadata": {},
   "outputs": [
    {
     "name": "stdout",
     "output_type": "stream",
     "text": [
      "Assistant skips harvesting pyclesperanto as it's not installed.\n"
     ]
    }
   ],
   "source": [
    "viewer = napari.Viewer()"
   ]
  },
  {
   "cell_type": "code",
   "execution_count": 5,
   "id": "68d8b18b-f12f-4396-a90c-6ee4657da3bc",
   "metadata": {},
   "outputs": [],
   "source": [
    "root = r'C:\\Users\\johamuel\\Documents\\BiAPoL\\Shared\\BiAPoLprojects\\20_STRESS\\1_first_data'\n",
    "\n",
    "matlab_results = os.path.join(root, \n",
    "                             'results_matlab_code',\n",
    "                             'ExampleTifSequence-InteriorLabel--21timesteps_analyzed',\n",
    "                             'CoordsAndCurves_2022_4_28_14_59')"
   ]
  },
  {
   "cell_type": "code",
   "execution_count": 6,
   "id": "c2b78da4-ebe9-41a5-9333-a905f789e706",
   "metadata": {},
   "outputs": [],
   "source": [
    "matlab_data = []\n",
    "\n",
    "for f in os.listdir(matlab_results):\n",
    "    matlab_data.append(io.loadmat(os.path.join(matlab_results, f)))"
   ]
  },
  {
   "cell_type": "markdown",
   "id": "b67094c7-0082-4e5d-a1b2-01c91a182aa8",
   "metadata": {},
   "source": [
    "The matlab results are loaded as a Python dictionary with the following column headers:"
   ]
  },
  {
   "cell_type": "code",
   "execution_count": 13,
   "id": "c6451ce1-b91d-4961-a249-a363dca04de3",
   "metadata": {},
   "outputs": [
    {
     "data": {
      "text/plain": [
       "dict_keys(['__header__', '__version__', '__globals__', 'pointCloudArray', 'meanCurvatureArray', 'data'])"
      ]
     },
     "execution_count": 13,
     "metadata": {},
     "output_type": "execute_result"
    }
   ],
   "source": [
    "matlab_data[0].keys()"
   ]
  },
  {
   "cell_type": "markdown",
   "id": "f91dee21-67bf-4089-a2b2-2dee8b80a032",
   "metadata": {},
   "source": [
    "We are obviously interested in the `pointCloudArray` array and the `meanCurvatureArray`."
   ]
  },
  {
   "cell_type": "code",
   "execution_count": 25,
   "id": "77fb8dab-9bba-4f32-adca-4af1e64c6414",
   "metadata": {},
   "outputs": [],
   "source": [
    "matlab_points = [x['pointCloudArray'] for x in matlab_data]\n",
    "matlab_mean_curvatures = [x['meanCurvatureArray'] for x in matlab_data]"
   ]
  },
  {
   "cell_type": "markdown",
   "id": "e338085d-08fe-48e0-9992-fd50ddbe4f06",
   "metadata": {},
   "source": [
    "We could first ask ourselves: by how many points is the surface characterized?"
   ]
  },
  {
   "cell_type": "code",
   "execution_count": 31,
   "id": "75f13786-6ae1-4508-92ec-f4e19b31f234",
   "metadata": {},
   "outputs": [
    {
     "data": {
      "text/plain": [
       "<matplotlib.legend.Legend at 0x1c1d87e67c0>"
      ]
     },
     "execution_count": 31,
     "metadata": {},
     "output_type": "execute_result"
    },
    {
     "data": {
      "image/png": "[encoded data removed]",
      "text/plain": [
       "<Figure size 432x288 with 1 Axes>"
      ]
     },
     "metadata": {
      "needs_background": "light"
     },
     "output_type": "display_data"
    }
   ],
   "source": [
    "n_verts = [len(x) for x in matlab_points]\n",
    "fig, ax = plt.subplots()\n",
    "ax.scatter(np.arange(len(n_verts)), n_verts, label = 'Matlab surface tracing')\n",
    "ax.set_xlabel('Timeframe')\n",
    "ax.set_ylabel('# vertices')\n",
    "ax.grid(which='major', linestyle='--', color='gray')\n",
    "ax.legend()"
   ]
  },
  {
   "cell_type": "code",
   "execution_count": 32,
   "id": "1a0c081c-8d1f-45c5-b27a-d29e28d9e2a7",
   "metadata": {},
   "outputs": [],
   "source": [
    "Converter = time_slicer.Converter()\n",
    "matlab_points = Converter.list_of_data_to_data(matlab_points, layertype=napari.types.PointsData)"
   ]
  },
  {
   "cell_type": "code",
   "execution_count": 24,
   "id": "60f1d095-2718-4313-8182-3ce3969ec188",
   "metadata": {},
   "outputs": [
    {
     "data": {
      "text/plain": [
       "array([[ 0.        , 17.13968199, 18.85632569, 20.94506796],\n",
       "       [ 0.        , 17.28743999, 18.51846887, 20.91139544],\n",
       "       [ 0.        , 17.68266817, 18.88726768, 20.8310964 ],\n",
       "       ...,\n",
       "       [20.        , 13.37882251, 15.75597412,  7.84409976],\n",
       "       [20.        , 13.7247176 , 14.95376525,  7.89900877],\n",
       "       [20.        , 14.16745682, 15.45442506,  7.81662381]])"
      ]
     },
     "execution_count": 24,
     "metadata": {},
     "output_type": "execute_result"
    }
   ],
   "source": [
    "matlab_points"
   ]
  },
  {
   "cell_type": "code",
   "execution_count": null,
   "id": "a4557d09-2c32-4d50-b5fa-57ac8e250c61",
   "metadata": {},
   "outputs": [],
   "source": []
  }
 ],
 "metadata": {
  "kernelspec": {
   "display_name": "Python 3 (ipykernel)",
   "language": "python",
   "name": "python3"
  },
  "language_info": {
   "codemirror_mode": {
    "name": "ipython",
    "version": 3
   },
   "file_extension": ".py",
   "mimetype": "text/x-python",
   "name": "python",
   "nbconvert_exporter": "python",
   "pygments_lexer": "ipython3",
   "version": "3.8.13"
  }
 },
 "nbformat": 4,
 "nbformat_minor": 5
}
