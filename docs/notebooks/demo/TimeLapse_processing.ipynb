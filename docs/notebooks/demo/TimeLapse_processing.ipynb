{
 "cells": [
  {
   "cell_type": "markdown",
   "id": "67811318-a8c8-44e9-8d28-4383c5ce6ea2",
   "metadata": {},
   "source": [
    "# Decorator for time-lapse processing\n",
    "\n",
    "This notebook shows how to use the `frame_by_frame` function to process timelapse data of points and surfaces for functions in- or outside the `napari-stress` plugin."
   ]
  },
  {
   "cell_type": "code",
   "execution_count": 1,
   "id": "6a2483d9-4fbf-43ea-a2a0-052779d35250",
   "metadata": {},
   "outputs": [],
   "source": [
    "import vedo\n",
    "import napari_stress\n",
    "import numpy as np\n",
    "\n",
    "import napari"
   ]
  },
  {
   "cell_type": "markdown",
   "id": "2ce35a1e-0407-43a1-b6d0-4b0bb7e1ed40",
   "metadata": {},
   "source": [
    "First, we need some synthetic data. For this, we create a list of spheres and add some noise to the vertex positions."
   ]
  },
  {
   "cell_type": "code",
   "execution_count": 16,
   "id": "6da5605a-41c2-4f23-9c23-fa24c054b8f1",
   "metadata": {},
   "outputs": [],
   "source": [
    "spheres = [[vedo.shapes.Sphere().points(), np.asarray(vedo.shapes.Sphere().faces())] for k in range(10)]"
   ]
  },
  {
   "cell_type": "code",
   "execution_count": 24,
   "id": "8c8df3b1-62f6-40cf-8e67-f72f8e92839f",
   "metadata": {},
   "outputs": [],
   "source": [
    "for sphere in spheres:\n",
    "    sphere[0] += np.random.normal(scale=0.1, size = spheres[0][0].shape)"
   ]
  },
  {
   "cell_type": "markdown",
   "id": "1fac9333-0f5c-4fe6-badc-67447c2b4c9b",
   "metadata": {},
   "source": [
    "As it is, this object cannot be added to Napari. To make it Napari-compliant, we have to convert the list with the frames into a single object. the `Converter` class allows to do this:"
   ]
  },
  {
   "cell_type": "code",
   "execution_count": 19,
   "id": "d79ca1c9-588d-4377-83de-bd997ad0a1ea",
   "metadata": {},
   "outputs": [
    {
     "data": {
      "text/plain": [
       "array([[ 0.09675507,  0.07958926,  0.1690543 ],\n",
       "       [-0.04694022,  0.10553381,  0.05093316],\n",
       "       [-0.00071347,  0.06200749, -0.07866395],\n",
       "       ...,\n",
       "       [ 0.12166409,  0.01506539, -0.05704673],\n",
       "       [ 0.0285389 ,  0.02379855, -0.13753124],\n",
       "       [ 0.0255986 ,  0.15561579, -0.02809186]])"
      ]
     },
     "execution_count": 19,
     "metadata": {},
     "output_type": "execute_result"
    }
   ],
   "source": [
    "Converter = napari_stress.Converter()\n"
   ]
  },
  {
   "cell_type": "code",
   "execution_count": null,
   "id": "16a5ca6f-1bc8-45cf-8935-5dbb73236df6",
   "metadata": {},
   "outputs": [],
   "source": []
  }
 ],
 "metadata": {
  "kernelspec": {
   "display_name": "Python 3 (ipykernel)",
   "language": "python",
   "name": "python3"
  },
  "language_info": {
   "codemirror_mode": {
    "name": "ipython",
    "version": 3
   },
   "file_extension": ".py",
   "mimetype": "text/x-python",
   "name": "python",
   "nbconvert_exporter": "python",
   "pygments_lexer": "ipython3",
   "version": "3.8.13"
  }
 },
 "nbformat": 4,
 "nbformat_minor": 5
}
