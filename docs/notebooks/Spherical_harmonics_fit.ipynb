{
 "cells": [
  {
   "cell_type": "markdown",
   "id": "63e6333c-ed20-40b4-ae3f-8bdfd4b96e3d",
   "metadata": {},
   "source": [
    "# Spherical harmonics surface approximation\n",
    "\n",
    "In this notebook, we will demonstrate the surface approximation with a basis of spherical harmonics functions."
   ]
  },
  {
   "cell_type": "code",
   "execution_count": 1,
   "id": "6ac97caf-cb6b-43b3-86cd-bd34f7308ad4",
   "metadata": {},
   "outputs": [],
   "source": [
    "import napari_stress\n",
    "import napari"
   ]
  },
  {
   "cell_type": "code",
   "execution_count": null,
   "id": "0e4ab891-3e06-4c05-b7f0-b85376ad3426",
   "metadata": {},
   "outputs": [],
   "source": []
  }
 ],
 "metadata": {
  "kernelspec": {
   "display_name": "Python 3 (ipykernel)",
   "language": "python",
   "name": "python3"
  },
  "language_info": {
   "codemirror_mode": {
    "name": "ipython",
    "version": 3
   },
   "file_extension": ".py",
   "mimetype": "text/x-python",
   "name": "python",
   "nbconvert_exporter": "python",
   "pygments_lexer": "ipython3",
   "version": "3.8.13"
  }
 },
 "nbformat": 4,
 "nbformat_minor": 5
}
