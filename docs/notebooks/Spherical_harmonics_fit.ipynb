{
 "cells": [
  {
   "cell_type": "markdown",
   "id": "63e6333c-ed20-40b4-ae3f-8bdfd4b96e3d",
   "metadata": {},
   "source": [
    "# Spherical harmonics surface approximation\n",
    "\n",
    "In this notebook, we will demonstrate the surface approximation with a basis of spherical harmonics functions."
   ]
  },
  {
   "cell_type": "code",
   "execution_count": 1,
   "id": "bcbd88d5-c9b6-4c11-af54-6ecd0c3ef876",
   "metadata": {},
   "outputs": [],
   "source": [
    "import napari\n",
    "import napari_stress\n",
    "import napari_process_points_and_surfaces as nppas\n",
    "import vedo\n",
    "import tqdm\n",
    "\n",
    "from napari.types import PointsData\n",
    "import pandas as pd\n",
    "import os\n",
    "import numpy as np\n",
    "\n",
    "import matplotlib.pyplot as plt"
   ]
  },
  {
   "cell_type": "markdown",
   "id": "fbdb5176-7716-4bdf-b3df-2095f87a0db8",
   "metadata": {},
   "source": [
    "## Config"
   ]
  },
  {
   "cell_type": "code",
   "execution_count": 2,
   "id": "4dfe71f0-0f42-4716-971f-2854ed2e74c5",
   "metadata": {},
   "outputs": [],
   "source": [
    "fit_degree = 3"
   ]
  },
  {
   "cell_type": "code",
   "execution_count": 3,
   "id": "0e4ab891-3e06-4c05-b7f0-b85376ad3426",
   "metadata": {},
   "outputs": [],
   "source": [
    "root = r'C:\\Users\\johamuel\\Documents\\BiAPoL\\Shared\\BiAPoLprojects\\20_STRESS\\1_first_data'\n",
    "filename = os.path.join(root, 'ExampleTifSequence-InteriorLabel-vsx_2.076um-vsz_3.998um-TimeInterval_3.00min-21timesteps_analyzed.csv')\n",
    "df = pd.read_csv(filename, sep = '\\t')"
   ]
  },
  {
   "cell_type": "code",
   "execution_count": 4,
   "id": "e942b44a-9192-448b-a560-fd97bd63223d",
   "metadata": {},
   "outputs": [],
   "source": [
    "pointcloud = df[['t', 'x1', 'x2', 'x3']].to_numpy()"
   ]
  },
  {
   "cell_type": "markdown",
   "id": "b04bd20a-56f7-472a-a556-b620b972e7fa",
   "metadata": {},
   "source": [
    "We need to convert this to a list of pointclouds:"
   ]
  },
  {
   "cell_type": "code",
   "execution_count": 5,
   "id": "ba9717ea-6ce0-4e15-b19e-8ac60ef4677f",
   "metadata": {},
   "outputs": [],
   "source": [
    "Converter = napari_stress._utils.time_slicer.Converter()\n",
    "pointcloud_list = Converter.data_to_list_of_data(pointcloud, PointsData)"
   ]
  },
  {
   "cell_type": "code",
   "execution_count": 6,
   "id": "2354c641-8951-45e7-9dba-afef36359f09",
   "metadata": {},
   "outputs": [
    {
     "name": "stdout",
     "output_type": "stream",
     "text": [
      "Assistant skips harvesting pyclesperanto as it's not installed.\n"
     ]
    },
    {
     "data": {
      "text/plain": [
       "<Points layer 'Points' at 0x265b5905760>"
      ]
     },
     "execution_count": 6,
     "metadata": {},
     "output_type": "execute_result"
    }
   ],
   "source": [
    "viewer = napari.Viewer(ndisplay=3)\n",
    "viewer.add_points(pointcloud_list[0], size=0.25, face_color='orange')"
   ]
  },
  {
   "cell_type": "markdown",
   "id": "d2476629-00b3-4f3e-9728-a2576002ac2e",
   "metadata": {},
   "source": [
    "## Harmonic fit"
   ]
  },
  {
   "cell_type": "code",
   "execution_count": 7,
   "id": "5514e9b5-f97f-41d1-bd45-1b6761d5cefa",
   "metadata": {},
   "outputs": [
    {
     "data": {
      "text/plain": [
       "<Points layer 'degree=9' at 0x265b56c8c10>"
      ]
     },
     "execution_count": 7,
     "metadata": {},
     "output_type": "execute_result"
    }
   ],
   "source": [
    "fitted_points = napari_stress.spherical_harmonic_fit(pointcloud_list[0],\n",
    "                                                    fit_degree=9,\n",
    "                                                    use_true_harmonics=False)\n",
    "\n",
    "viewer.add_points(fitted_points, size=0.25, face_color='cyan', name='degree=9')"
   ]
  },
  {
   "cell_type": "code",
   "execution_count": null,
   "id": "5465817c-742e-4cbf-8f38-73adf5e60c51",
   "metadata": {},
   "outputs": [],
   "source": []
  },
  {
   "cell_type": "code",
   "execution_count": null,
   "id": "d16d0708-45b4-486e-ad2e-5b70e03366b8",
   "metadata": {},
   "outputs": [],
   "source": []
  }
 ],
 "metadata": {
  "kernelspec": {
   "display_name": "Python 3 (ipykernel)",
   "language": "python",
   "name": "python3"
  },
  "language_info": {
   "codemirror_mode": {
    "name": "ipython",
    "version": 3
   },
   "file_extension": ".py",
   "mimetype": "text/x-python",
   "name": "python",
   "nbconvert_exporter": "python",
   "pygments_lexer": "ipython3",
   "version": "3.8.13"
  }
 },
 "nbformat": 4,
 "nbformat_minor": 5
}
