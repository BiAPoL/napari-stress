{
 "cells": [
  {
   "cell_type": "markdown",
   "id": "4de9d76f-dbeb-4474-a9fa-ac54d848dc18",
   "metadata": {},
   "source": [
    "# Making measurements compatible with napari\n",
    "\n",
    "This notebook explains how to handle the passage of napari-specific object classes between backend functions and napari layers. The key element of this passage is the `naparify_measurement` decorator (`napari_stress.measurements.utils.naparify_measurement`). It does the following things:\n",
    "\n",
    "- It replaces the type annotation of a decorated function for type `manifold` with `napari.layers.Layer`. Thus, napari can create a widget from it.\n",
    "- If a layer is passed to the function, the `manifold` object is retrieved from `layer.metadata` and forwarded to the function\n",
    "- As measurement functions can return `data`, `features` or `metadata`, the resulting `features` and `metadata` are appended to the input `Layer`. If the function has been called with `manifold` as input rather than a `napari.layers.Layer`, the resulting `features` and `metadata` are returned."
   ]
  },
  {
   "cell_type": "code",
   "execution_count": 4,
   "id": "b961a790-4892-4725-9571-b5b58288fdee",
   "metadata": {},
   "outputs": [],
   "source": [
    "from functools import wraps\n",
    "import inspect\n",
    "import napari\n",
    "import numpy as np\n",
    "from napari_stress._stress.manifold_SPB import manifold\n",
    "import napari_stress"
   ]
  },
  {
   "cell_type": "markdown",
   "id": "73a68c8b-f7cc-4e2a-8418-f7d9192a8047",
   "metadata": {},
   "source": [
    "Let's demonstrate this with a simple example function:"
   ]
  },
  {
   "cell_type": "code",
   "execution_count": 2,
   "id": "f589eb09-ee52-4f75-ba21-570e85ba78c8",
   "metadata": {},
   "outputs": [],
   "source": [
    "def my_function(manifold: napari_stress._stress.manifold_SPB.manifold, sigma: float = 1.0) -> (dict, dict):\n",
    "    some_data = np.random.random((10,3))\n",
    "    metadata = {'attribute': 1}\n",
    "    metadata['manifold'] = manifold\n",
    "    features = {'attribute2': np.random.random(10)}\n",
    "    return features, metadata"
   ]
  },
  {
   "cell_type": "markdown",
   "id": "70a68725-c756-4b8c-bccb-7488ce413911",
   "metadata": {},
   "source": [
    "You'll see that this function expects a `manifold` object and a float number:"
   ]
  },
  {
   "cell_type": "code",
   "execution_count": 6,
   "id": "4baae2dc-7e5a-43af-955e-b60213eae13f",
   "metadata": {},
   "outputs": [],
   "source": [
    "my_function"
   ]
  },
  {
   "cell_type": "markdown",
   "id": "12e34855-0a42-4ea7-b19d-1a7d49c37c20",
   "metadata": {},
   "source": [
    "Decorating this function with `naparify_measurement` changes this:"
   ]
  },
  {
   "cell_type": "code",
   "execution_count": 9,
   "id": "7c30311b-ec41-4fbd-96b0-4c3ce8442309",
   "metadata": {},
   "outputs": [
    {
     "data": {
      "text/plain": [
       "<function __main__.my_function(manifold: 'napari.layers.Points', sigma: float = 1.0)>"
      ]
     },
     "execution_count": 9,
     "metadata": {},
     "output_type": "execute_result"
    }
   ],
   "source": [
    "napari_stress.measurements.utils.naparify_measurement(my_function)"
   ]
  },
  {
   "cell_type": "markdown",
   "id": "9cba250f-8a4e-46f5-9034-48b27d660f01",
   "metadata": {},
   "source": [
    "## Demo with sample data"
   ]
  },
  {
   "cell_type": "code",
   "execution_count": 30,
   "id": "b00dbebe-eb98-4d9b-93c1-09400843351c",
   "metadata": {},
   "outputs": [],
   "source": [
    "pointcloud = napari_stress.get_droplet_point_cloud()[0]\n",
    "viewer.add_points(pointcloud[0][:, 1:], **pointcloud[1])\n",
    "\n",
    "expansion = napari_stress.fit_spherical_harmonics(viewer.layers[-1].data)\n",
    "viewer.add_points(expansion[0], **expansion[1])\n",
    "\n",
    "lebedev_points = napari_stress._spherical_harmonics.spherical_harmonics_napari.perform_lebedev_quadrature(viewer.layers[-1], viewer=viewer)\n",
    "results_layer = viewer.layers[-1]\n",
    "assert 'manifold' in results_layer.metadata"
   ]
  },
  {
   "cell_type": "markdown",
   "id": "6dab9745-5693-4a0e-8a9e-13af3307bf4a",
   "metadata": {},
   "source": [
    "`lebedev_points` is a Points layer with a `manifold` object stored within its `layer.metadata`:"
   ]
  },
  {
   "cell_type": "code",
   "execution_count": 31,
   "id": "f8480b22-671a-486b-8927-27939c6b8a38",
   "metadata": {},
   "outputs": [],
   "source": [
    "results_layer.metadata['manifold']"
   ]
  },
  {
   "cell_type": "markdown",
   "id": "c46847c2-f757-4c74-bfdd-c535f1a3215f",
   "metadata": {},
   "source": [
    "We can now nicely demonstrate the behaviour of `naparify_measurement` - you'll see that the measured parameters `Mean_curvature_at_lebedev_points`, `H0_arithmetic_average` and `H0_surface_integral` have been appended to the layer:"
   ]
  },
  {
   "cell_type": "code",
   "execution_count": 35,
   "id": "17033b8c-ca26-4067-b643-a511ec43bf09",
   "metadata": {},
   "outputs": [
    {
     "name": "stdout",
     "output_type": "stream",
     "text": [
      "Old: <class 'napari_stress._stress.manifold_SPB.manifold'> New: napari.layers.Points\n",
      "Metadata items: dict_keys(['spherical_harmonics_coefficients', 'spherical_harmonics_implementation', 'manifold', 'H0_arithmetic_average', 'H0_surface_integral'])\n",
      "Features items: Index(['error', 'Mean_curvature_at_lebedev_points'], dtype='object')\n"
     ]
    }
   ],
   "source": [
    "napari_stress.measurements.calculate_mean_curvature_on_manifold(results_layer)\n",
    "print('Metadata items:', results_layer.metadata.keys())\n",
    "print('Features items:', results_layer.features.keys())"
   ]
  },
  {
   "cell_type": "markdown",
   "id": "1876c85e-8a21-45fd-825e-c73c6c4c0b1a",
   "metadata": {},
   "source": [
    "If we were to pass the `manifold` object to the measurement function `calculate_mean_curvature_on_manifold()`, we'll directly receive the measured `features` and `metadata`:"
   ]
  },
  {
   "cell_type": "code",
   "execution_count": 39,
   "id": "5b5e8c2c-004c-4bf6-bc46-464f00440dd9",
   "metadata": {},
   "outputs": [
    {
     "name": "stdout",
     "output_type": "stream",
     "text": [
      "Old: <class 'napari_stress._stress.manifold_SPB.manifold'> New: napari.layers.Points\n",
      "Metadata items: dict_keys(['H0_arithmetic_average', 'H0_surface_integral'])\n",
      "Features items: dict_keys(['Mean_curvature_at_lebedev_points'])\n"
     ]
    }
   ],
   "source": [
    "_, features, metadata = napari_stress.measurements.calculate_mean_curvature_on_manifold(results_layer.metadata['manifold'])\n",
    "print('Metadata items:', metadata.keys())\n",
    "print('Features items:', features.keys())"
   ]
  },
  {
   "cell_type": "code",
   "execution_count": null,
   "id": "1eda3b3c-db0c-4d98-a859-c17877a8d6ec",
   "metadata": {},
   "outputs": [],
   "source": []
  }
 ],
 "metadata": {
  "kernelspec": {
   "display_name": "Python 3 (ipykernel)",
   "language": "python",
   "name": "python3"
  },
  "language_info": {
   "codemirror_mode": {
    "name": "ipython",
    "version": 3
   },
   "file_extension": ".py",
   "mimetype": "text/x-python",
   "name": "python",
   "nbconvert_exporter": "python",
   "pygments_lexer": "ipython3",
   "version": "3.9.12"
  }
 },
 "nbformat": 4,
 "nbformat_minor": 5
}
